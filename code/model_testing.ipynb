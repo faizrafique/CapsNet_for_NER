{
 "cells": [
  {
   "cell_type": "markdown",
   "metadata": {},
   "source": [
    "# Model Testing\n",
    "> Final testing results for best models"
   ]
  },
  {
   "cell_type": "code",
   "execution_count": 1,
   "metadata": {},
   "outputs": [
    {
     "name": "stderr",
     "output_type": "stream",
     "text": [
      "Using TensorFlow backend.\n"
     ]
    }
   ],
   "source": [
    "%load_ext autoreload\n",
    "%autoreload 2\n",
    "from importlib import reload\n",
    "\n",
    "import numpy as np\n",
    "#import time # !\n",
    "import json\n",
    "#from matplotlib import pyplot as plt\n",
    "\n",
    "from loadutils import retrieve_decoder_model, retrieve_model\n",
    "import evaluation_helper as eh\n",
    "import tensorflow as tf\n",
    "import pandas as pd\n",
    "from keras.utils import to_categorical\n",
    "\n",
    "import glove_helper\n",
    "from loadutils import conll2003Data, saveProcessedData, retrieve_model\n",
    "from common import vocabulary, utils\n"
   ]
  },
  {
   "cell_type": "code",
   "execution_count": 2,
   "metadata": {},
   "outputs": [],
   "source": [
    "# TRAIN_FILE = \"../data/CoNLL-2003_NeuroNER/en/train.txt\"\n",
    "# DEV_FILE = \"../data/CoNLL-2003_NeuroNER/en/valid.txt\"\n",
    "# TEST_FILE = \"../data/CoNLL-2003_NeuroNER/en/test.txt\"\n",
    "\n",
    "TRAIN_FILE = \"../data/pos_tagging/es/train.txt\"\n",
    "DEV_FILE = \"../data/pos_tagging/es/train.txt\"\n",
    "TEST_FILE = \"../data/pos_tagging/es/train.txt\"\n",
    "\n",
    "# TRAIN_FILE = \"../data/pos_tagging/es/train_combined.txt\"\n",
    "# DEV_FILE = \"../data/pos_tagging/es/dev_combined.txt\"\n",
    "# TEST_FILE = \"../data/pos_tagging/es/test_combined.txt\""
   ]
  },
  {
   "cell_type": "markdown",
   "metadata": {},
   "source": [
    "## Local helper utils"
   ]
  },
  {
   "cell_type": "code",
   "execution_count": 3,
   "metadata": {},
   "outputs": [],
   "source": [
    "def construct_embedding_matrix(embed_dim, vocab_size):\n",
    "    \"\"\"\n",
    "    construct embedding matrix from GloVe 6Bn word data\n",
    "    \n",
    "    reuse glove_helper code from w266 \n",
    "    \n",
    "    Returns: an embedding matrix directly plugged into keras.layers.Embedding(weights=[embedding_matrix])\n",
    "    \"\"\"\n",
    "    reload(glove_helper)\n",
    "    hands = glove_helper.Hands(ndim=embed_dim)\n",
    "    embedding_matrix = np.zeros((vocab_size, embed_dim))\n",
    "    \n",
    "    for i in range(vocabData.vocab.size):\n",
    "        word = vocabData.vocab.ids_to_words([i])[0]\n",
    "        try:\n",
    "            embedding_vector = hands.get_vector(word)\n",
    "        except:\n",
    "            embedding_vector = hands.get_vector(\"<unk>\")\n",
    "        embedding_matrix[i] = embedding_vector\n",
    "\n",
    "    return embedding_matrix"
   ]
  },
  {
   "cell_type": "markdown",
   "metadata": {},
   "source": [
    "## Load the Data"
   ]
  },
  {
   "cell_type": "code",
   "execution_count": 4,
   "metadata": {},
   "outputs": [
    {
     "name": "stdout",
     "output_type": "stream",
     "text": [
      "----------------------------------------------------\n",
      "reading file from path ../data/pos_tagging/es/train.txt\n",
      "'readFile'  1920.69 ms\n",
      "----------------------------------------------------\n",
      "building vocabulary from TRAINING data...\n",
      "'buildVocab'  1844.74 ms\n",
      "----------------------------------------------------\n",
      "formatting sentences into input windows...\n",
      "'formatWindowedData'  3862.02 ms\n",
      "----------------------------------------------------\n",
      "reading file from path ../data/pos_tagging/es/train.txt\n",
      "'readFile'  1791.36 ms\n",
      "----------------------------------------------------\n",
      "formatting sentences into input windows...\n",
      "'formatWindowedData'  3007.44 ms\n",
      "----------------------------------------------------\n",
      "reading file from path ../data/pos_tagging/es/train.txt\n",
      "'readFile'  1551.35 ms\n",
      "----------------------------------------------------\n",
      "formatting sentences into input windows...\n",
      "'formatWindowedData'  3333.53 ms\n"
     ]
    }
   ],
   "source": [
    "# UPDATES!\n",
    "global_max_features = 20000\n",
    "windowLength = 11\n",
    "#testNumSents = 20000\n",
    "\n",
    "# Use training set to build vocab here\n",
    "vocabData = conll2003Data(TRAIN_FILE)\n",
    "vocabData.buildVocab( vocabSize=global_max_features)\n",
    "\n",
    "# Format training data\n",
    "trainX, trainX_pos, trainX_capitals, trainY  = vocabData.formatWindowedData( \n",
    "                                                  vocabData.train_sentences, \n",
    "                                                  windowLength=windowLength,\n",
    "                                                  verbose=False)\n",
    "\n",
    "# read in dev data\n",
    "devSents = vocabData.readFile( DEV_FILE)\n",
    "devX, devX_pos, devX_capitals, devY = vocabData.formatWindowedData( \n",
    "                                              devSents, \n",
    "                                              windowLength=windowLength,\n",
    "                                              verbose=False)\n",
    "\n",
    "# read in the test data\n",
    "testSents = vocabData.readFile( TEST_FILE)\n",
    "testX, testX_pos, testX_capitals, testY = vocabData.formatWindowedData( \n",
    "                                                testSents, \n",
    "                                                windowLength=windowLength,\n",
    "                                                verbose=False)"
   ]
  },
  {
   "cell_type": "code",
   "execution_count": 5,
   "metadata": {},
   "outputs": [
    {
     "name": "stdout",
     "output_type": "stream",
     "text": [
      "Loading vectors from data/es/wiki.es.zip\n",
      "Parsing file: data/es/wiki.es.zip:wiki.es.vec\n",
      "Found 985,668 words.\n",
      "Parsing vectors... Done! (W.shape = (985671, 300))\n"
     ]
    }
   ],
   "source": [
    "# Load GloVe embedding matrix\n",
    "\n",
    "# global_embed_dim = 50\n",
    "global_embed_dim = 300\n",
    "\n",
    "embedding_matrix = construct_embedding_matrix( global_embed_dim, \n",
    "                                               global_max_features)"
   ]
  },
  {
   "cell_type": "code",
   "execution_count": 6,
   "metadata": {},
   "outputs": [],
   "source": [
    "# Get Y\n",
    "\n",
    "# cat train/dev/test to make sure we have all labels in test set\n",
    "\n",
    "# encoding 1-hot for ner targets\n",
    "trainY_cat = to_categorical(trainY.astype('float32'))\n",
    "devY_cat = to_categorical(devY.astype('float32'), num_classes=trainY_cat.shape[1])\n",
    "testY_cat = to_categorical(testY.astype('float32'), num_classes=trainY_cat.shape[1])\n",
    "\n",
    "trainY_cat = np.array(list(map( lambda i: np.array(i[3:], dtype=np.float), trainY_cat)), dtype=np.float)\n",
    "devY_cat = np.array(list(map( lambda i: np.array(i[3:], dtype=np.float), devY_cat)), dtype=np.float)\n",
    "testY_cat = np.array(list(map( lambda i: np.array(i[3:], dtype=np.float), testY_cat)), dtype=np.float)"
   ]
  },
  {
   "cell_type": "code",
   "execution_count": 7,
   "metadata": {},
   "outputs": [],
   "source": [
    "# Get decoder Y -- 50 dim embedding of center word\n",
    "train_decoderY = embedding_matrix[trainX[:,4]]\n",
    "dev_decoderY = embedding_matrix[devX[:,4]]\n",
    "test_decoderY = embedding_matrix[testX[:,4]]"
   ]
  },
  {
   "cell_type": "code",
   "execution_count": 9,
   "metadata": {},
   "outputs": [],
   "source": [
    "# Get X pos tags\n",
    "\n",
    "#encoding 1-hot for pos tags\n",
    "trainX_pos_cat = to_categorical(trainX_pos.astype('float32'))\n",
    "devX_pos_cat = to_categorical(devX_pos.astype('float32'), num_classes=trainX_pos_cat.shape[2]) \n",
    "testX_pos_cat = to_categorical(testX_pos.astype('float32'), num_classes=trainX_pos_cat.shape[2])"
   ]
  },
  {
   "cell_type": "code",
   "execution_count": null,
   "metadata": {},
   "outputs": [],
   "source": [
    "## AZ: this causes the kernel to die sometimes...\n",
    "\n",
    "trainX_pos_cat = np.array(list(map( lambda i: np.array(i[:,3:], dtype=np.float), trainX_pos_cat)), dtype=np.float)\n",
    "devX_pos_cat = np.array(list(map( lambda i: np.array(i[:,3:], dtype=np.float), devX_pos_cat)), dtype=np.float)\n",
    "testX_pos_cat = np.array(list(map( lambda i: np.array(i[:,3:], dtype=np.float), testX_pos_cat)), dtype=np.float)"
   ]
  },
  {
   "cell_type": "code",
   "execution_count": null,
   "metadata": {},
   "outputs": [],
   "source": [
    "# Get X capitlization \n",
    "\n",
    "# encoding 1-hot for capitalization info  (\"allCaps\", \"upperInitial\", \"lowercase\", \"mixedCaps\", \"noinfo\")\n",
    "trainX_capitals_cat = to_categorical(trainX_capitals.astype('float32'))\n",
    "devX_capitals_cat = to_categorical(devX_capitals.astype('float32')), num_classes=trainX_capitals_cat.shape[2]) \n",
    "testX_capitals_cat = to_categorical(testX_capitals.astype('float32')), num_classes=trainX_capitals_cat.shape[2])\n",
    "\n",
    "trainX_capitals_cat = np.array(list(map( lambda i: np.array(i[:,3:], dtype=np.float), trainX_capitals_cat)), dtype=np.float)\n",
    "devX_capitals_cat = np.array(list(map( lambda i: np.array(i[:,3:], dtype=np.float), devX_capitals_cat)), dtype=np.float)\n",
    "testX_capitals_cat = np.array(list(map( lambda i: np.array(i[:,3:], dtype=np.float), testX_capitals_cat)), dtype=np.float)"
   ]
  },
  {
   "cell_type": "markdown",
   "metadata": {
    "collapsed": true
   },
   "source": [
    "## Final Models"
   ]
  },
  {
   "cell_type": "code",
   "execution_count": null,
   "metadata": {},
   "outputs": [],
   "source": [
    "## AZ: if we want to use features\n",
    "devX_dict = {\"x\":devX, \"x_pos\":devX_pos_cat, \"x_capital\":devX_capitals_cat}\n",
    "testX_dict = {\"x\":testX, \"x_pos\":testX_pos_cat, \"x_capital\":testX_capitals_cat}\n",
    "\n",
    "## AZ: if we don't want to load the features (\"x_pos\" here)\n",
    "# devX_dict = {\"x\":devX, \"x_capital\":devX_capitals_cat}\n",
    "# testX_dict = {\"x\":testX, \"x_capital\":testX_capitals_cat}\n",
    "\n",
    "modelDir = { \"save_dir\" : \"result\"}"
   ]
  },
  {
   "cell_type": "markdown",
   "metadata": {},
   "source": [
    "## Capsnet model"
   ]
  },
  {
   "cell_type": "markdown",
   "metadata": {},
   "source": [
    "### no features"
   ]
  },
  {
   "cell_type": "code",
   "execution_count": null,
   "metadata": {},
   "outputs": [],
   "source": [
    "# model A - Window11_glove50_learn_drop50_caps3_conv5_cos_pos_caps\n",
    "modelName = \"glove_nolearn_base\"\n",
    "myModel = retrieve_model( modelName, modelDir)\n",
    "myModel.summary()\n",
    "\n",
    "raw_y_pred = myModel.predict( testX_dict)\n",
    "y_pred = eh.convert_raw_y_pred( raw_y_pred)\n",
    "\n",
    "# construct report object\n",
    "report_obj4 = eh.EvalDev_Report(modelName=modelName, y_true=testY, raw_y_pred=raw_y_pred, y_pred=y_pred) \n",
    "report_obj4.connect_to_dataClass( vocabData)\n",
    "\n",
    "print(\"Precision\", report_obj4.get_precision( testY, y_pred))\n",
    "print(\"Recall\\t\", report_obj4.get_recall( testY, y_pred))\n",
    "print(\"F1\\t\", report_obj4.get_f1( testY, y_pred))\n",
    "cm = report_obj4.get_confusion_matrix( testY, y_pred)\n",
    "print()\n",
    "cm"
   ]
  },
  {
   "cell_type": "markdown",
   "metadata": {},
   "source": [
    "### with features"
   ]
  },
  {
   "cell_type": "code",
   "execution_count": null,
   "metadata": {},
   "outputs": [],
   "source": [
    "# model A - Window11_glove50_learn_drop50_caps3_conv5_cos_pos_caps\n",
    "modelName = \"glove_nolearn_features\"\n",
    "myModel = retrieve_model( modelName, modelDir)\n",
    "myModel.summary()\n",
    "\n",
    "raw_y_pred = myModel.predict( testX_dict)\n",
    "y_pred = eh.convert_raw_y_pred( raw_y_pred)\n",
    "\n",
    "# construct report object\n",
    "report_obj4 = eh.EvalDev_Report(modelName=modelName, y_true=testY, raw_y_pred=raw_y_pred, y_pred=y_pred) \n",
    "report_obj4.connect_to_dataClass( vocabData)\n",
    "\n",
    "print(\"Precision\", report_obj4.get_precision( testY, y_pred))\n",
    "print(\"Recall\\t\", report_obj4.get_recall( testY, y_pred))\n",
    "print(\"F1\\t\", report_obj4.get_f1( testY, y_pred))\n",
    "cm = report_obj4.get_confusion_matrix( testY, y_pred)\n",
    "print()\n",
    "cm"
   ]
  },
  {
   "cell_type": "markdown",
   "metadata": {},
   "source": [
    "### Model B (Model A + Decoder)"
   ]
  },
  {
   "cell_type": "code",
   "execution_count": null,
   "metadata": {},
   "outputs": [],
   "source": [
    "# # model B - Window11_glove50_learn_drop50_decode1000_caps3_conv5_cos_pos_caps\n",
    "# # modelName = \"Window11_glove50_learn_drop50_decode1000_caps3_conv5_cos_pos_caps\"\n",
    "# modelName = \"glove_nolearn_base\"\n",
    "# myModel = retrieve_decoder_model( modelName, modelDir)\n",
    "# myModel.summary()\n",
    "\n",
    "# raw_y_pred, raw_eval_y_pred = myModel.predict( testX_dict)\n",
    "# y_pred = eh.convert_raw_y_pred( raw_y_pred)\n",
    "\n",
    "# # construct report object\n",
    "# report_obj4 = eh.EvalDev_Report(modelName=modelName, y_true=testY, raw_y_pred=raw_y_pred, y_pred=y_pred) \n",
    "# report_obj4.connect_to_dataClass( vocabData)\n",
    "\n",
    "# print(\"Precision\", report_obj4.get_precision( testY, y_pred))\n",
    "# print(\"Recall\\t\", report_obj4.get_recall( testY, y_pred))\n",
    "# print(\"F1\\t\", report_obj4.get_f1( testY, y_pred))\n",
    "# #cm = report_obj4.get_confusion_matrix( testY, y_pred)\n",
    "# #print()\n",
    "# #cm"
   ]
  },
  {
   "cell_type": "markdown",
   "metadata": {},
   "source": [
    "## CNN"
   ]
  },
  {
   "cell_type": "markdown",
   "metadata": {},
   "source": [
    "### no features"
   ]
  },
  {
   "cell_type": "code",
   "execution_count": null,
   "metadata": {},
   "outputs": [],
   "source": [
    "# CNN  -- Win11_cnn_glove50_learn_drop50_convtwo5_convone3_cos_pos_caps\n",
    "modelName = \"glove_nolearn_cnn_base\"\n",
    "myModel = retrieve_model( modelName, modelDir)\n",
    "myModel.summary()\n",
    "\n",
    "raw_y_pred = myModel.predict( testX_dict)\n",
    "y_pred = eh.convert_raw_y_pred( raw_y_pred)\n",
    "\n",
    "# construct report object\n",
    "report_obj4 = eh.EvalDev_Report(modelName=modelName, y_true=testY, raw_y_pred=raw_y_pred, y_pred=y_pred) \n",
    "report_obj4.connect_to_dataClass( vocabData)\n",
    "\n",
    "print(\"Precision\", report_obj4.get_precision( testY, y_pred))\n",
    "print(\"Recall\\t\", report_obj4.get_recall( testY, y_pred))\n",
    "print(\"F1\\t\", report_obj4.get_f1( testY, y_pred))\n",
    "cm = report_obj4.get_confusion_matrix( testY, y_pred)\n",
    "print()\n",
    "cm"
   ]
  },
  {
   "cell_type": "markdown",
   "metadata": {},
   "source": [
    "### with features"
   ]
  },
  {
   "cell_type": "code",
   "execution_count": null,
   "metadata": {},
   "outputs": [],
   "source": [
    "# CNN  -- Win11_cnn_glove50_learn_drop50_convtwo5_convone3_cos_pos_caps\n",
    "modelName = \"glove_nolearn_cnn_features\"\n",
    "myModel = retrieve_model( modelName, modelDir)\n",
    "myModel.summary()\n",
    "\n",
    "raw_y_pred = myModel.predict( testX_dict)\n",
    "y_pred = eh.convert_raw_y_pred( raw_y_pred)\n",
    "\n",
    "# construct report object\n",
    "report_obj4 = eh.EvalDev_Report(modelName=modelName, y_true=testY, raw_y_pred=raw_y_pred, y_pred=y_pred) \n",
    "report_obj4.connect_to_dataClass( vocabData)\n",
    "\n",
    "print(\"Precision\", report_obj4.get_precision( testY, y_pred))\n",
    "print(\"Recall\\t\", report_obj4.get_recall( testY, y_pred))\n",
    "print(\"F1\\t\", report_obj4.get_f1( testY, y_pred))\n",
    "cm = report_obj4.get_confusion_matrix( testY, y_pred)\n",
    "print()\n",
    "cm"
   ]
  }
 ],
 "metadata": {
  "kernelspec": {
   "display_name": "Python 3",
   "language": "python",
   "name": "python3"
  },
  "language_info": {
   "codemirror_mode": {
    "name": "ipython",
    "version": 3
   },
   "file_extension": ".py",
   "mimetype": "text/x-python",
   "name": "python",
   "nbconvert_exporter": "python",
   "pygments_lexer": "ipython3",
   "version": "3.7.4"
  }
 },
 "nbformat": 4,
 "nbformat_minor": 2
}
