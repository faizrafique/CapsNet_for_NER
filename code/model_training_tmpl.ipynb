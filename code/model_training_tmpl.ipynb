{
 "cells": [
  {
   "cell_type": "markdown",
   "metadata": {},
   "source": [
    "# Model Training\n",
    "> To facilitate a more automated training procedure, the model training is moved to a standalone python script.  \n",
    "This keeps Keras much happier in terms of required restarts and memory usage."
   ]
  },
  {
   "cell_type": "code",
   "execution_count": 1,
   "metadata": {
    "scrolled": true
   },
   "outputs": [
    {
     "name": "stderr",
     "output_type": "stream",
     "text": [
      "Using TensorFlow backend.\n"
     ]
    }
   ],
   "source": [
    "%load_ext autoreload\n",
    "%autoreload 2\n",
    "from importlib import reload\n",
    "\n",
    "import numpy as np\n",
    "import time # !\n",
    "import json\n",
    "from matplotlib import pyplot as plt\n",
    "\n",
    "from keras.utils import to_categorical\n",
    "\n",
    "import glove_helper\n",
    "from loadutils import conll2003Data, saveProcessedData, retrieve_model\n",
    "from common import vocabulary, utils\n"
   ]
  },
  {
   "cell_type": "code",
   "execution_count": 2,
   "metadata": {},
   "outputs": [
    {
     "name": "stdout",
     "output_type": "stream",
     "text": [
      "LANGUAGE:\t es\n",
      "TRAIN_AMOUNT:\t 100\n"
     ]
    }
   ],
   "source": [
    "## AZ UPDATE 4/21/2020:  I switched the columns back in load_utils.py\n",
    "# I also re-generated the data files, so results may differ from before\n",
    "\n",
    "\"\"\"\n",
    "Pick which language to train on\n",
    "\"\"\"\n",
    "LANGUAGE = \"es\"\n",
    "# LANGUAGE = \"ca\"\n",
    "\n",
    "\"\"\"\n",
    "Pick how much of the training data to use\n",
    "\"\"\"\n",
    "TRAIN_AMOUNT = \"100\"\n",
    "# TRAIN_AMOUNT = \"50\"\n",
    "# TRAIN_AMOUNT = \"10\"\n",
    "\n",
    "DIRECTORY = \"../data/pos_tagging/\"+LANGUAGE+\"/\"\n",
    "\n",
    "#training file depends on low-resource or not; 100%, 50%, or 10% of training data used\n",
    "TRAIN_FILE = DIRECTORY+\"train_\"+TRAIN_AMOUNT+\".txt\"\n",
    "\n",
    "# dev, test, and vectors stay the same\n",
    "DEV_FILE = DIRECTORY+\"dev.txt\"\n",
    "TEST_FILE = DIRECTORY+\"test.txt\"\n",
    "VECTORS = \"data/\"+LANGUAGE+\"/wiki.\"+LANGUAGE+\".zip\"\n",
    "\n",
    "# out files for IPC\n",
    "HYPER_PARAM_FILE = \"hyper_params.json\"\n",
    "\n",
    "VOCAB_SIZE = 20000\n",
    "\n",
    "## PRINT OUT HYPERPARAMETERS FOR REFERENCE\n",
    "print(\"LANGUAGE:\\t\", LANGUAGE)\n",
    "print(\"TRAIN_AMOUNT:\\t\", TRAIN_AMOUNT)"
   ]
  },
  {
   "cell_type": "markdown",
   "metadata": {},
   "source": [
    "## Local helper utils"
   ]
  },
  {
   "cell_type": "code",
   "execution_count": 3,
   "metadata": {},
   "outputs": [],
   "source": [
    "# local untils\n",
    "\n",
    "# timeit decorator\n",
    "def timeit(method):\n",
    "    def timed(*args, **kw):\n",
    "        ts = time.time()\n",
    "        result = method(*args, **kw)\n",
    "        te = time.time()\n",
    "        if 'log_time' in kw:\n",
    "            name = kw.get('log_name', method.__name__.upper())\n",
    "            kw['log_time'][name] = int((te - ts) * 1000)\n",
    "        else:\n",
    "            print ('%r  %2.2f ms' % \\\n",
    "                  (method.__name__, (te - ts) * 1000))\n",
    "        return result\n",
    "    return timed"
   ]
  },
  {
   "cell_type": "code",
   "execution_count": 4,
   "metadata": {},
   "outputs": [],
   "source": [
    "def construct_embedding_matrix(embed_dim, vocab_size):\n",
    "    \"\"\"\n",
    "    construct embedding matrix from GloVe 6Bn word data\n",
    "    \n",
    "    reuse glove_helper code from w266 \n",
    "    \n",
    "    Returns: an embedding matrix directly plugged into keras.layers.Embedding(weights=[embedding_matrix])\n",
    "    \"\"\"\n",
    "    reload(glove_helper)\n",
    "    hands = glove_helper.Hands(vector_zip=VECTORS, ndim=embed_dim)\n",
    "    embedding_matrix = np.zeros((vocab_size, embed_dim))\n",
    "    \n",
    "    for i in range(vocabData.vocab.size):\n",
    "        word = vocabData.vocab.ids_to_words([i])[0]\n",
    "        try:\n",
    "            embedding_vector = hands.get_vector(word)\n",
    "        except:\n",
    "            embedding_vector = hands.get_vector(\"<unk>\")\n",
    "        embedding_matrix[i] = embedding_vector\n",
    "\n",
    "    return embedding_matrix"
   ]
  },
  {
   "cell_type": "code",
   "execution_count": 5,
   "metadata": {},
   "outputs": [],
   "source": [
    "def plot_history( history):\n",
    "    # summarize history for accuracy\n",
    "    plt.plot(history.history['acc'])\n",
    "    plt.plot(history.history['val_acc'])\n",
    "    plt.title('model accuracy')\n",
    "    plt.ylabel('accuracy')\n",
    "    plt.xlabel('epoch')\n",
    "    plt.legend(['train', 'test'], loc='upper left')\n",
    "    plt.show()\n",
    "    \n",
    "    # summarize history for loss\n",
    "    plt.plot(history.history['loss'])\n",
    "    plt.plot(history.history['val_loss'])\n",
    "    plt.title('model loss')\n",
    "    plt.ylabel('loss')\n",
    "    plt.xlabel('epoch')\n",
    "    plt.legend(['train', 'test'], loc='upper left')\n",
    "    plt.show()"
   ]
  },
  {
   "cell_type": "markdown",
   "metadata": {},
   "source": [
    "## Load the Data"
   ]
  },
  {
   "cell_type": "code",
   "execution_count": 6,
   "metadata": {
    "scrolled": true
   },
   "outputs": [
    {
     "name": "stdout",
     "output_type": "stream",
     "text": [
      "----------------------------------------------------\n",
      "reading file from path ../data/pos_tagging/es/train_100.txt\n",
      "'readFile'  2084.19 ms\n",
      "----------------------------------------------------\n",
      "building vocabulary from TRAINING data...\n",
      "vocabulary for words, posTags, nerTags built and stored in object\n",
      "vocab size = 20000\n",
      "10 sampled words from vocabulary\n",
      " ['ignasi', 'añaden', 'comprometer', 'consejos', 'kings', 'incorporaciones', 'precios', 'normalidad', 'lesbianas', 'amantes'] \n",
      "\n",
      "number of unique pos Tags in training = 67\n",
      "all posTags used\n",
      " ['Tense=Imp', 'Poss=Yes', 'PunctType=Brck', 'NumType=Ord', 'Definite=Ind', 'Tense=Past', 'AdvType=Tim', 'Case=Nom', 'VerbForm=Fin', 'Case=Acc,Nom', 'PronType=Art', 'Number=Plur', 'Number[psor]=Plur', 'PunctType=Peri', 'Person=3', 'AdpType=Prep', 'PronType=Ind', 'PronType=Int,Rel', 'NumForm=Digit', 'PunctType=Colo', 'VerbForm=Ger', 'PunctSide=Fin', 'Case=Acc,Dat', 'Case=Dat', 'PunctType=Semi', 'Person=1', 'PunctType=Comm', 'Mood=Ind', 'PunctType=Qest', 'Person=2', 'Polarity=Neg', 'PronType=Prs', 'Mood=Cnd', 'PunctType=Excl', 'Polite=Form', 'Case=Acc', 'Mood=Imp', 'Case=Com', 'Gender=Fem', 'Gender=Masc', 'PrepCase=Npr', 'Degree=Cmp', 'Tense=Fut', 'NumType=Frac', 'PronType=Dem', 'Degree=Abs', '_', '<unk>', 'PronType=Neg', 'PunctType=Dash', 'Mood=Sub', 'Reflex=Yes', 'Number[psor]=Sing', 'PunctSide=Ini', 'PunctType=Quot', 'VerbForm=Part', 'AdpType=Preppron', 'Degree=Sup', 'VerbForm=Inf', '<s>', 'NumType=Card', 'PrepCase=Pre', 'Definite=Def', 'Tense=Pres', 'PronType=Tot', '</s>', 'Number=Sing'] \n",
      "\n",
      "number of unique NER tags in training = 21\n",
      "all nerTags for prediction ['SYM', 'AUX', 'DET', 'ADJ', 'VERB', 'NUM', 'ADV', 'PROPN', 'NOUN', 'ADP', 'PART', '_', 'SCONJ', '<unk>', 'INTJ', 'X', 'PUNCT', 'PRON', '<s>', 'CCONJ', '</s>'] \n",
      "\n",
      "number of unique capitalization tags in training = 8\n",
      "all capitalTags for prediction ['upperInitial', 'mixedCaps', 'lowercase', '<s>', 'allCaps', 'noinfo', '<unk>', '</s>'] \n",
      "\n",
      "'buildVocab'  2194.60 ms\n"
     ]
    }
   ],
   "source": [
    "# UPDATES!\n",
    "global_max_features = 20000\n",
    "windowLength = 11\n",
    "#testNumSents = 20000\n",
    "\n",
    "# Use training set to build vocab here\n",
    "vocabData = conll2003Data(TRAIN_FILE)\n",
    "vocabData.buildVocab( vocabSize=global_max_features, verbose=True)"
   ]
  },
  {
   "cell_type": "code",
   "execution_count": 7,
   "metadata": {},
   "outputs": [
    {
     "name": "stdout",
     "output_type": "stream",
     "text": [
      "----------------------------------------------------\n",
      "formatting sentences into input windows...\n",
      "STEP 1/2 -- PADDING\n",
      "all sentences padded with 5 pads to either end\n",
      "vocab idx for first 5 sentences:\n",
      " [[0, 0, 0, 0, 0, 6, 55, 14, 1310, 7731, 3, 17, 1145, 15, 480, 2091, 3, 3457, 53, 2961, 3, 17, 1145, 19, 188, 300, 8, 17690, 5, 537, 30, 91, 63, 1311, 6, 804, 11, 5, 375, 3, 13, 1669, 3, 372, 11, 93, 2777, 7, 1, 1, 1, 1, 1], [0, 0, 0, 0, 0, 42, 5, 742, 3, 5737, 19, 372, 3, 93, 2777, 8, 1743, 3, 3458, 5, 12233, 4, 2191, 6571, 73, 8, 22, 12234, 2432, 5, 47, 5738, 11, 13, 2777, 1670, 10, 11, 93, 8, 1459, 4565, 327, 10, 8, 24, 226, 8, 9419, 1744, 936, 26, 1079, 678, 9420, 11, 95, 7, 1, 1, 1, 1, 1], [0, 0, 0, 0, 0, 223, 8, 403, 6, 3459, 538, 10, 8, 400, 3, 6572, 6, 189, 85, 21, 29, 92, 7, 1, 1, 1, 1, 1], [0, 0, 0, 0, 0, 5, 692, 9, 389, 3767, 26, 6, 805, 22, 6, 503, 10, 5, 4132, 532, 4, 7732, 44, 937, 4, 6, 2962, 3, 246, 10, 6, 255, 3, 389, 3, 5, 495, 3, 119, 4, 608, 17691, 18, 4133, 5, 12, 404, 4134, 12, 3, 13, 645, 10, 5, 12, 404, 3, 5, 4135, 12, 3, 13, 937, 7, 1, 1, 1, 1, 1], [0, 0, 0, 0, 0, 79, 5, 1985, 14, 713, 12, 5, 4132, 18, 207, 3, 5, 389, 7, 5, 389, 3767, 9, 246, 12, 4, 12235, 18, 5, 495, 3, 119, 4, 6, 365, 127, 3, 5, 2306, 2565, 3, 17692, 32, 12236, 33, 4, 2778, 12237, 4, 2566, 18, 5, 390, 3, 13, 3216, 9, 1986, 3, 4135, 5069, 7, 1, 1, 1, 1, 1]] \n",
      "\n",
      "pos idx for first 5 sentences:\n",
      " [[[0], [0], [0], [0], [0], [11, 4, 3, 9], [4, 3], [21], [4, 3], [4, 3], [7], [11, 6, 8, 9], [5], [27, 10, 22, 16, 28], [13, 3, 10, 18, 12], [4, 3], [7], [19], [6, 3, 33], [6, 3], [7], [11, 6, 8, 9], [6, 8], [7], [6, 8, 31], [6, 8], [24], [38, 8, 10, 15, 12], [11, 6, 3, 9], [6, 3], [5], [5], [5], [19], [11, 4, 3, 9], [4, 3], [7], [11, 6, 3, 9], [6, 3], [7], [11, 4, 8, 9], [8], [7], [5], [7], [4, 8, 31], [4, 8], [17], [1], [1], [1], [1], [1]], [[0], [0], [0], [0], [0], [7], [11, 6, 3, 9], [6, 3], [7], [6, 3], [7], [5], [7], [4, 8, 31], [4, 8], [24], [13, 3, 10, 15, 12], [7], [19], [11, 6, 3, 9], [5], [14], [5], [5], [13, 3, 10, 18, 12], [5], [7], [5], [19], [41, 6, 3, 10, 22, 16], [13, 8, 10, 15, 12], [4, 3, 18, 20], [7], [11, 4, 8, 9], [4, 8], [8], [5], [7], [4, 8, 31], [24], [5], [13, 8, 10, 39, 12], [4, 8], [5], [5], [21], [19], [5], [19], [4, 8, 25, 33], [4, 8], [13, 3, 10, 15, 12], [3], [19], [4, 8, 20], [7], [4, 8, 46], [17], [1], [1], [1], [1], [1]], [[0], [0], [0], [0], [0], [13, 3, 10, 18, 12], [5], [13, 3, 10, 15, 12], [11, 4, 3, 9], [4, 3], [4, 3], [5], [5], [13, 3, 10, 15, 12], [7], [19], [11, 4, 3, 9], [4, 3], [31], [35], [41, 4, 3, 10, 22, 16], [13, 3, 10, 15, 12], [17], [1], [1], [1], [1], [1]], [[0], [0], [0], [0], [0], [11, 6, 3, 9], [6, 3], [7], [6, 3], [6, 3], [13, 3, 10, 15, 12], [11, 4, 3, 9], [4, 3], [7], [11, 4, 3, 9], [4, 3], [5], [11, 6, 3, 9], [6, 3], [6, 3], [14], [13, 8, 10, 18, 12], [5], [4, 8], [14], [11, 4, 3, 9], [4, 3], [7], [5], [5], [11, 4, 3, 9], [4, 3], [7], [6, 3], [7], [11, 6, 3, 9], [5], [7], [5], [14], [8, 24], [13, 8, 10, 18, 12], [7], [19], [11, 6, 3, 9], [26], [6, 3], [6, 3], [26], [7], [11, 4, 8, 9], [4, 8], [5], [11, 6, 3, 9], [26], [6, 3], [7], [11, 6, 3, 9], [6, 3], [26], [7], [11, 4, 8, 9], [4, 8], [17], [1], [1], [1], [1], [1]], [[0], [0], [0], [0], [0], [7], [11, 6, 3, 9], [6, 3], [21], [4, 3], [26], [11, 6, 3, 9], [5], [7], [5], [7], [11, 6, 3, 9], [5], [5], [11, 6, 3, 9], [5], [5], [7], [5], [26], [14], [4, 3, 20], [7], [11, 6, 3, 9], [5], [7], [5], [14], [11, 4, 3, 9], [4, 3], [3], [7], [11, 6, 3, 9], [5], [5], [7], [5], [43, 36], [5], [42, 36], [14], [5], [5], [14], [13, 3, 10, 18, 12], [7], [11, 6, 3, 9], [6, 3], [7], [11, 4, 8, 9], [4, 8], [7], [6, 8], [7], [6, 3], [6, 3], [17], [1], [1], [1], [1], [1]]] \n",
      "\n",
      "AZ TEST \n",
      "\n",
      "posIDs[0]:\t [[0], [0], [0], [0], [0], [11, 4, 3, 9], [4, 3], [21], [4, 3], [4, 3], [7], [11, 6, 8, 9], [5], [27, 10, 22, 16, 28], [13, 3, 10, 18, 12], [4, 3], [7], [19], [6, 3, 33], [6, 3], [7], [11, 6, 8, 9], [6, 8], [7], [6, 8, 31], [6, 8], [24], [38, 8, 10, 15, 12], [11, 6, 3, 9], [6, 3], [5], [5], [5], [19], [11, 4, 3, 9], [4, 3], [7], [11, 6, 3, 9], [6, 3], [7], [11, 4, 8, 9], [8], [7], [5], [7], [4, 8, 31], [4, 8], [17], [1], [1], [1], [1], [1]] \n",
      "\n",
      "posIDs len:\t 14305 \n",
      "\n",
      "ner idx for first 5 sentences:\n",
      " [[0, 0, 0, 0, 0, 5, 3, 4, 3, 9, 4, 5, 8, 10, 7, 9, 4, 7, 5, 3, 4, 5, 3, 4, 5, 3, 10, 7, 5, 3, 14, 3, 3, 7, 5, 3, 4, 5, 3, 4, 5, 3, 4, 8, 4, 5, 3, 6, 1, 1, 1, 1, 1], [0, 0, 0, 0, 0, 4, 5, 3, 4, 3, 4, 8, 4, 5, 3, 10, 7, 4, 7, 5, 8, 6, 8, 8, 7, 14, 4, 16, 7, 10, 13, 7, 4, 5, 3, 9, 12, 4, 10, 10, 11, 7, 3, 12, 14, 4, 7, 14, 7, 5, 3, 13, 9, 7, 9, 4, 10, 6, 1, 1, 1, 1, 1], [0, 0, 0, 0, 0, 7, 14, 7, 5, 3, 9, 12, 14, 7, 4, 7, 5, 3, 10, 11, 10, 13, 6, 1, 1, 1, 1, 1], [0, 0, 0, 0, 0, 5, 3, 4, 3, 9, 13, 5, 3, 4, 5, 3, 12, 5, 3, 9, 6, 7, 11, 3, 6, 5, 3, 4, 8, 12, 5, 3, 4, 3, 4, 5, 8, 4, 8, 6, 10, 7, 4, 7, 5, 6, 3, 9, 6, 4, 5, 3, 12, 5, 6, 3, 4, 5, 3, 6, 4, 5, 3, 6, 1, 1, 1, 1, 1], [0, 0, 0, 0, 0, 4, 5, 3, 4, 3, 6, 5, 8, 4, 8, 4, 5, 8, 6, 5, 8, 8, 4, 8, 6, 6, 9, 4, 5, 8, 4, 8, 6, 5, 3, 9, 4, 5, 8, 8, 4, 8, 6, 8, 6, 6, 8, 8, 6, 7, 4, 5, 3, 4, 5, 3, 4, 3, 4, 3, 9, 6, 1, 1, 1, 1, 1]] \n",
      "\n",
      "capitalization idx for first 5 sentences: \n",
      " [[0, 0, 0, 0, 0, 5, 3, 3, 3, 3, 3, 3, 5, 3, 3, 3, 3, 3, 3, 3, 3, 3, 3, 3, 3, 3, 3, 3, 3, 3, 3, 3, 3, 3, 3, 3, 3, 3, 3, 3, 3, 3, 3, 5, 3, 3, 3, 4, 1, 1, 1, 1, 1], [0, 0, 0, 0, 0, 5, 3, 3, 3, 3, 3, 5, 3, 3, 3, 3, 3, 3, 3, 3, 6, 4, 5, 5, 3, 3, 3, 3, 3, 3, 3, 3, 3, 3, 3, 3, 3, 3, 3, 3, 3, 3, 3, 3, 3, 3, 3, 3, 3, 3, 3, 3, 3, 3, 3, 3, 3, 4, 1, 1, 1, 1, 1], [0, 0, 0, 0, 0, 5, 3, 3, 3, 3, 3, 3, 3, 3, 3, 3, 3, 3, 3, 3, 3, 3, 4, 1, 1, 1, 1, 1], [0, 0, 0, 0, 0, 5, 3, 3, 3, 3, 3, 3, 3, 3, 3, 3, 3, 3, 3, 3, 4, 3, 3, 3, 4, 3, 3, 3, 6, 3, 3, 3, 3, 3, 3, 3, 5, 3, 5, 4, 3, 3, 3, 3, 3, 4, 3, 3, 4, 3, 3, 3, 3, 3, 4, 3, 3, 3, 3, 4, 3, 3, 3, 4, 1, 1, 1, 1, 1], [0, 0, 0, 0, 0, 5, 3, 3, 3, 3, 4, 5, 3, 3, 3, 3, 3, 3, 4, 5, 3, 3, 3, 6, 4, 4, 3, 3, 3, 5, 3, 5, 4, 3, 3, 3, 3, 3, 5, 5, 3, 4, 4, 6, 4, 4, 5, 5, 4, 3, 3, 3, 3, 3, 3, 3, 3, 3, 3, 3, 3, 4, 1, 1, 1, 1, 1]] \n",
      "\n",
      "number of sentences = 14305 \n",
      "\n",
      "STEP 2/2 -- WINDOWING\n",
      "sample windows:\n",
      "Vocab for window 0\n",
      "[0, 0, 0, 0, 0, 6, 55, 14, 1310, 7731, 3]\n",
      "['<s>', '<s>', '<s>', '<s>', '<s>', 'el', 'presidente', 'del', 'órgano', 'regulador', 'de']\n",
      "PoS tags for window 0\n",
      "[[0], [0], [0], [0], [0], [11, 4, 3, 9], [4, 3], [21], [4, 3], [4, 3], [7]]\n",
      "[['<s>'], ['<s>'], ['<s>'], ['<s>'], ['<s>'], ['Definite=Def', 'Gender=Masc', 'Number=Sing', 'PronType=Art'], ['Gender=Masc', 'Number=Sing'], ['AdpType=Preppron'], ['Gender=Masc', 'Number=Sing'], ['Gender=Masc', 'Number=Sing'], ['AdpType=Prep']]\n",
      "Capitalization tags for window 0\n",
      "[0, 0, 0, 0, 0, 5, 3, 3, 3, 3, 3]\n",
      "['<s>', '<s>', '<s>', '<s>', '<s>', 'upperInitial', 'lowercase', 'lowercase', 'lowercase', 'lowercase', 'lowercase']\n",
      "NER tags for center word\n",
      "5\n",
      "['DET'] \n",
      "\n",
      "Vocab for window 1\n",
      "[0, 0, 0, 0, 6, 55, 14, 1310, 7731, 3, 17]\n",
      "['<s>', '<s>', '<s>', '<s>', 'el', 'presidente', 'del', 'órgano', 'regulador', 'de', 'las']\n",
      "PoS tags for window 1\n",
      "[[0], [0], [0], [0], [11, 4, 3, 9], [4, 3], [21], [4, 3], [4, 3], [7], [11, 6, 8, 9]]\n",
      "[['<s>'], ['<s>'], ['<s>'], ['<s>'], ['Definite=Def', 'Gender=Masc', 'Number=Sing', 'PronType=Art'], ['Gender=Masc', 'Number=Sing'], ['AdpType=Preppron'], ['Gender=Masc', 'Number=Sing'], ['Gender=Masc', 'Number=Sing'], ['AdpType=Prep'], ['Definite=Def', 'Gender=Fem', 'Number=Plur', 'PronType=Art']]\n",
      "Capitalization tags for window 1\n",
      "[0, 0, 0, 0, 5, 3, 3, 3, 3, 3, 3]\n",
      "['<s>', '<s>', '<s>', '<s>', 'upperInitial', 'lowercase', 'lowercase', 'lowercase', 'lowercase', 'lowercase', 'lowercase']\n",
      "NER tags for center word\n",
      "3\n",
      "['NOUN'] \n",
      "\n",
      "Vocab for window 2\n",
      "[0, 0, 0, 6, 55, 14, 1310, 7731, 3, 17, 1145]\n",
      "['<s>', '<s>', '<s>', 'el', 'presidente', 'del', 'órgano', 'regulador', 'de', 'las', 'telecomunicaciones']\n",
      "PoS tags for window 2\n",
      "[[0], [0], [0], [11, 4, 3, 9], [4, 3], [21], [4, 3], [4, 3], [7], [11, 6, 8, 9], [5]]\n",
      "[['<s>'], ['<s>'], ['<s>'], ['Definite=Def', 'Gender=Masc', 'Number=Sing', 'PronType=Art'], ['Gender=Masc', 'Number=Sing'], ['AdpType=Preppron'], ['Gender=Masc', 'Number=Sing'], ['Gender=Masc', 'Number=Sing'], ['AdpType=Prep'], ['Definite=Def', 'Gender=Fem', 'Number=Plur', 'PronType=Art'], ['_']]\n",
      "Capitalization tags for window 2\n",
      "[0, 0, 0, 5, 3, 3, 3, 3, 3, 3, 5]\n",
      "['<s>', '<s>', '<s>', 'upperInitial', 'lowercase', 'lowercase', 'lowercase', 'lowercase', 'lowercase', 'lowercase', 'upperInitial']\n",
      "NER tags for center word\n",
      "4\n",
      "['ADP'] \n",
      "\n",
      "rows of vocab features = 446144\n",
      "rows of PoS features = 446144\n",
      "rows of Capitalization features = 446144\n",
      "rows of NER features = 446144\n",
      "numpy feature arrays are returned\n"
     ]
    },
    {
     "ename": "KeyboardInterrupt",
     "evalue": "",
     "output_type": "error",
     "traceback": [
      "\u001b[0;31m---------------------------------------------------------------------------\u001b[0m",
      "\u001b[0;31mKeyboardInterrupt\u001b[0m                         Traceback (most recent call last)",
      "\u001b[0;32m<ipython-input-7-3d46f5582e7d>\u001b[0m in \u001b[0;36m<module>\u001b[0;34m\u001b[0m\n\u001b[1;32m      3\u001b[0m                                                   \u001b[0mvocabData\u001b[0m\u001b[0;34m.\u001b[0m\u001b[0mtrain_sentences\u001b[0m\u001b[0;34m,\u001b[0m\u001b[0;34m\u001b[0m\u001b[0;34m\u001b[0m\u001b[0m\n\u001b[1;32m      4\u001b[0m                                                   \u001b[0mwindowLength\u001b[0m\u001b[0;34m=\u001b[0m\u001b[0mwindowLength\u001b[0m\u001b[0;34m,\u001b[0m\u001b[0;34m\u001b[0m\u001b[0;34m\u001b[0m\u001b[0m\n\u001b[0;32m----> 5\u001b[0;31m                                                   verbose=True)\n\u001b[0m\u001b[1;32m      6\u001b[0m \u001b[0;34m\u001b[0m\u001b[0m\n\u001b[1;32m      7\u001b[0m \u001b[0;31m# read in dev data\u001b[0m\u001b[0;34m\u001b[0m\u001b[0;34m\u001b[0m\u001b[0;34m\u001b[0m\u001b[0m\n",
      "\u001b[0;32m~/Documents/CapsuleNetworks/CapsNet_for_NER_zupon/code/loadutils.py\u001b[0m in \u001b[0;36mtimed\u001b[0;34m(*args, **kw)\u001b[0m\n\u001b[1;32m     32\u001b[0m     \u001b[0;32mdef\u001b[0m \u001b[0mtimed\u001b[0m\u001b[0;34m(\u001b[0m\u001b[0;34m*\u001b[0m\u001b[0margs\u001b[0m\u001b[0;34m,\u001b[0m \u001b[0;34m**\u001b[0m\u001b[0mkw\u001b[0m\u001b[0;34m)\u001b[0m\u001b[0;34m:\u001b[0m\u001b[0;34m\u001b[0m\u001b[0;34m\u001b[0m\u001b[0m\n\u001b[1;32m     33\u001b[0m         \u001b[0mts\u001b[0m \u001b[0;34m=\u001b[0m \u001b[0mtime\u001b[0m\u001b[0;34m.\u001b[0m\u001b[0mtime\u001b[0m\u001b[0;34m(\u001b[0m\u001b[0;34m)\u001b[0m\u001b[0;34m\u001b[0m\u001b[0;34m\u001b[0m\u001b[0m\n\u001b[0;32m---> 34\u001b[0;31m         \u001b[0mresult\u001b[0m \u001b[0;34m=\u001b[0m \u001b[0mmethod\u001b[0m\u001b[0;34m(\u001b[0m\u001b[0;34m*\u001b[0m\u001b[0margs\u001b[0m\u001b[0;34m,\u001b[0m \u001b[0;34m**\u001b[0m\u001b[0mkw\u001b[0m\u001b[0;34m)\u001b[0m\u001b[0;34m\u001b[0m\u001b[0;34m\u001b[0m\u001b[0m\n\u001b[0m\u001b[1;32m     35\u001b[0m         \u001b[0mte\u001b[0m \u001b[0;34m=\u001b[0m \u001b[0mtime\u001b[0m\u001b[0;34m.\u001b[0m\u001b[0mtime\u001b[0m\u001b[0;34m(\u001b[0m\u001b[0;34m)\u001b[0m\u001b[0;34m\u001b[0m\u001b[0;34m\u001b[0m\u001b[0m\n\u001b[1;32m     36\u001b[0m         \u001b[0;32mif\u001b[0m \u001b[0;34m'log_time'\u001b[0m \u001b[0;32min\u001b[0m \u001b[0mkw\u001b[0m\u001b[0;34m:\u001b[0m\u001b[0;34m\u001b[0m\u001b[0;34m\u001b[0m\u001b[0m\n",
      "\u001b[0;32m~/Documents/CapsuleNetworks/CapsNet_for_NER_zupon/code/loadutils.py\u001b[0m in \u001b[0;36mformatWindowedData\u001b[0;34m(self, sentences, windowLength, verbose)\u001b[0m\n\u001b[1;32m    444\u001b[0m \u001b[0;34m\u001b[0m\u001b[0m\n\u001b[1;32m    445\u001b[0m         \u001b[0;32massert\u001b[0m\u001b[0;34m(\u001b[0m\u001b[0mlen\u001b[0m\u001b[0;34m(\u001b[0m\u001b[0mfeatsVocab\u001b[0m\u001b[0;34m)\u001b[0m \u001b[0;34m==\u001b[0m \u001b[0mlen\u001b[0m\u001b[0;34m(\u001b[0m\u001b[0mfeatsVocab\u001b[0m\u001b[0;34m)\u001b[0m \u001b[0;34m==\u001b[0m \u001b[0mlen\u001b[0m\u001b[0;34m(\u001b[0m\u001b[0mfeatsNER\u001b[0m\u001b[0;34m)\u001b[0m \u001b[0;34m==\u001b[0m \u001b[0mlen\u001b[0m\u001b[0;34m(\u001b[0m\u001b[0mfeatsCAPITAL\u001b[0m\u001b[0;34m)\u001b[0m\u001b[0;34m)\u001b[0m\u001b[0;34m\u001b[0m\u001b[0;34m\u001b[0m\u001b[0m\n\u001b[0;32m--> 446\u001b[0;31m         \u001b[0;32mreturn\u001b[0m \u001b[0mnp\u001b[0m\u001b[0;34m.\u001b[0m\u001b[0marray\u001b[0m\u001b[0;34m(\u001b[0m\u001b[0mfeatsVocab\u001b[0m\u001b[0;34m)\u001b[0m\u001b[0;34m,\u001b[0m \u001b[0mnp\u001b[0m\u001b[0;34m.\u001b[0m\u001b[0marray\u001b[0m\u001b[0;34m(\u001b[0m\u001b[0mfeatsPOS\u001b[0m\u001b[0;34m)\u001b[0m\u001b[0;34m,\u001b[0m \u001b[0mnp\u001b[0m\u001b[0;34m.\u001b[0m\u001b[0marray\u001b[0m\u001b[0;34m(\u001b[0m\u001b[0mfeatsCAPITAL\u001b[0m\u001b[0;34m)\u001b[0m\u001b[0;34m,\u001b[0m \u001b[0mnp\u001b[0m\u001b[0;34m.\u001b[0m\u001b[0marray\u001b[0m\u001b[0;34m(\u001b[0m\u001b[0mfeatsNER\u001b[0m\u001b[0;34m)\u001b[0m\u001b[0;34m\u001b[0m\u001b[0;34m\u001b[0m\u001b[0m\n\u001b[0m\u001b[1;32m    447\u001b[0m \u001b[0;34m\u001b[0m\u001b[0m\n",
      "\u001b[0;31mKeyboardInterrupt\u001b[0m: "
     ]
    }
   ],
   "source": [
    "# Format training data\n",
    "trainX, trainX_pos, trainX_capitals, trainY  = vocabData.formatWindowedData( \n",
    "                                                  vocabData.train_sentences, \n",
    "                                                  windowLength=windowLength,\n",
    "                                                  verbose=True)\n",
    "\n",
    "# read in dev data\n",
    "devSents = vocabData.readFile( DEV_FILE)\n",
    "devX, devX_pos, devX_capitals, devY = vocabData.formatWindowedData( \n",
    "                                              devSents, \n",
    "                                              windowLength=windowLength,\n",
    "                                              verbose=False)\n",
    "\n",
    "# read in the test data\n",
    "testSents = vocabData.readFile( TEST_FILE)\n",
    "testX, testX_pos, testX_capitals, testY = vocabData.formatWindowedData( \n",
    "                                                testSents, \n",
    "                                                windowLength=windowLength,\n",
    "                                                verbose=False)"
   ]
  },
  {
   "cell_type": "code",
   "execution_count": null,
   "metadata": {
    "scrolled": false
   },
   "outputs": [],
   "source": [
    "# Load GloVe embedding matrix\n",
    "\n",
    "# setting it to global instead of hyper_param dictionaries because embedding \\\n",
    "# dimensions need to be decided before the data is loaded for the decoder output\n",
    "# global_embed_dim = 50\n",
    "global_embed_dim = 300\n",
    "\n",
    "embedding_matrix = construct_embedding_matrix( global_embed_dim, \n",
    "                                               global_max_features)"
   ]
  },
  {
   "cell_type": "code",
   "execution_count": null,
   "metadata": {},
   "outputs": [],
   "source": [
    "# Get Y\n",
    "\n",
    "# encoding 1-hot for ner targets\n",
    "trainY_cat = to_categorical(trainY.astype('float32'))\n",
    "devY_cat = to_categorical(devY.astype('float32'), num_classes=trainY_cat.shape[1])\n",
    "testY_cat = to_categorical(testY.astype('float32'), num_classes=trainY_cat.shape[1])\n",
    "\n",
    "trainY_cat = np.array(list(map( lambda i: np.array(i[3:], dtype=np.float), trainY_cat)), dtype=np.float)\n",
    "devY_cat = np.array(list(map( lambda i: np.array(i[3:], dtype=np.float), devY_cat)), dtype=np.float)\n",
    "testY_cat = np.array(list(map( lambda i: np.array(i[3:], dtype=np.float), testY_cat)), dtype=np.float)"
   ]
  },
  {
   "cell_type": "code",
   "execution_count": null,
   "metadata": {},
   "outputs": [],
   "source": [
    "# Get decoder Y -- 50 dim embedding of center word\n",
    "\n",
    "train_decoderY = embedding_matrix[trainX[:,4]]\n",
    "dev_decoderY = embedding_matrix[devX[:,4]]\n",
    "test_decoderY = embedding_matrix[testX[:,4]]"
   ]
  },
  {
   "cell_type": "code",
   "execution_count": null,
   "metadata": {
    "scrolled": true
   },
   "outputs": [],
   "source": [
    "# trainX => windows of size 11, center word is what we're predicting the label for\n",
    "# trainY => tag/prediction for center word only!\n",
    "# train_decoderY[0]"
   ]
  },
  {
   "cell_type": "code",
   "execution_count": null,
   "metadata": {},
   "outputs": [],
   "source": [
    "# vocabData.posTags.size"
   ]
  },
  {
   "cell_type": "code",
   "execution_count": null,
   "metadata": {},
   "outputs": [],
   "source": [
    "# AZ's take on keras's to_categorical method, but if we DON'T want a one-hot vector\n",
    "# instead, the values of the vectors are 1 for ALL of the features present, so one token's vector\n",
    "# could have a 1 in more than one dimension here\n",
    "\n",
    "def to_almost_categorical(y, num_classes):\n",
    "    almost_categorical_array = np.zeros((y.shape[0], y.shape[1], num_classes))\n",
    "#     print(almost_categorical_array.shape)\n",
    "    for i in range(len(y[0])):\n",
    "#         print(\"window:\\t\",window)\n",
    "        window = y[i]\n",
    "        window_index = i\n",
    "#         print(\"window_index:\\t\", i)\n",
    "#         print(\"window:\\t\", window)\n",
    "        for j in range(len(window)):\n",
    "            token = window[j]\n",
    "            token_index = j\n",
    "#             print(\"token_index:\\t\", token_index)\n",
    "#             print(\"token:\\t\",token)\n",
    "            for value in token:\n",
    "#                 print(\"value:\\t\",value)\n",
    "#                 print(\"token_index:\\t\",token_index)\n",
    "                value = int(value)\n",
    "                almost_categorical_array[i,token_index,value] += 1\n",
    "#                 print(almost_categorical_array[i])\n",
    "    print(almost_categorical_array)\n",
    "    return almost_categorical_array\n",
    "        "
   ]
  },
  {
   "cell_type": "code",
   "execution_count": null,
   "metadata": {
    "scrolled": true
   },
   "outputs": [],
   "source": [
    "# Get X pos tags\n",
    "\n",
    "# encoding 1-hot for pos tags\n",
    "trainX_pos_cat = to_almost_categorical(trainX_pos, num_classes=vocabData.posTags.size)\n",
    "devX_pos_cat = to_almost_categorical(devX_pos, num_classes=vocabData.posTags.size) \n",
    "testX_pos_cat = to_almost_categorical(testX_pos, num_classes=vocabData.posTags.size)"
   ]
  },
  {
   "cell_type": "code",
   "execution_count": null,
   "metadata": {},
   "outputs": [],
   "source": [
    "# encoding 1-hot for pos tags\n",
    "# trainX_pos_cat = to_categorical(trainX_pos.astype('float32'))\n",
    "# devX_pos_cat = to_categorical(devX_pos.astype('float32'), num_classes=trainX_pos_cat.shape[2]) \n",
    "# testX_pos_cat = to_categorical(testX_pos.astype('float32'), num_classes=trainX_pos_cat.shape[2])"
   ]
  },
  {
   "cell_type": "code",
   "execution_count": null,
   "metadata": {},
   "outputs": [],
   "source": [
    "\"\"\"\n",
    "AZ:  trying to get pos tags crashes the kernel on my laptop, try on another device or on HPC\n",
    "\"\"\"\n",
    "\n",
    "trainX_pos_cat = np.array(list(map( lambda i: np.array(i[:,3:], dtype=np.float), trainX_pos_cat)), dtype=np.float)"
   ]
  },
  {
   "cell_type": "code",
   "execution_count": null,
   "metadata": {},
   "outputs": [],
   "source": [
    "devX_pos_cat = np.array(list(map( lambda i: np.array(i[:,3:], dtype=np.float), devX_pos_cat)), dtype=np.float)"
   ]
  },
  {
   "cell_type": "code",
   "execution_count": null,
   "metadata": {},
   "outputs": [],
   "source": [
    "testX_pos_cat = np.array(list(map( lambda i: np.array(i[:,3:], dtype=np.float), testX_pos_cat)), dtype=np.float)"
   ]
  },
  {
   "cell_type": "code",
   "execution_count": null,
   "metadata": {},
   "outputs": [],
   "source": [
    "# testX_pos.shape"
   ]
  },
  {
   "cell_type": "code",
   "execution_count": null,
   "metadata": {},
   "outputs": [],
   "source": [
    "# 52801 = number of windows\n",
    "# testX_pos[0]"
   ]
  },
  {
   "cell_type": "code",
   "execution_count": null,
   "metadata": {},
   "outputs": [],
   "source": [
    "# testX_pos_cat.shape"
   ]
  },
  {
   "cell_type": "code",
   "execution_count": null,
   "metadata": {},
   "outputs": [],
   "source": [
    "# testX_pos_cat[0][7]"
   ]
  },
  {
   "cell_type": "code",
   "execution_count": null,
   "metadata": {},
   "outputs": [],
   "source": [
    "# trainX[0]"
   ]
  },
  {
   "cell_type": "code",
   "execution_count": null,
   "metadata": {},
   "outputs": [],
   "source": [
    "# Get X capitalization \n",
    "\n",
    "# encoding 1-hot for capitalization info  (\"allCaps\", \"upperInitial\", \"lowercase\", \"mixedCaps\", \"noinfo\")\n",
    "trainX_capitals_cat = to_categorical(trainX_capitals.astype('float32'))\n",
    "devX_capitals_cat = to_categorical(devX_capitals.astype('float32'), num_classes=trainX_capitals_cat.shape[2]) \n",
    "testX_capitals_cat = to_categorical(testX_capitals.astype('float32'), num_classes=trainX_capitals_cat.shape[2])"
   ]
  },
  {
   "cell_type": "code",
   "execution_count": null,
   "metadata": {},
   "outputs": [],
   "source": [
    "trainX_capitals_cat = np.array(list(map( lambda i: np.array(i[:,3:], dtype=np.float), trainX_capitals_cat)), dtype=np.float)\n",
    "devX_capitals_cat = np.array(list(map( lambda i: np.array(i[:,3:], dtype=np.float), devX_capitals_cat)), dtype=np.float)\n",
    "testX_capitals_cat = np.array(list(map( lambda i: np.array(i[:,3:], dtype=np.float), testX_capitals_cat)), dtype=np.float)"
   ]
  },
  {
   "cell_type": "markdown",
   "metadata": {},
   "source": [
    "## Set up model parameters"
   ]
  },
  {
   "cell_type": "code",
   "execution_count": null,
   "metadata": {},
   "outputs": [],
   "source": [
    "# define hyper parameters for model\n",
    "# CAPSNET\n",
    "hyper_param_caps = {\n",
    "    \n",
    "    'max_features' : global_max_features,  # 20000\n",
    "    'maxlen' : trainX.shape[1],  # window size (11)\n",
    "    'poslen' : trainX_pos_cat.shape[2],  # pos classes (216)\n",
    "    # TODO: turn this into feature types, or only use that for capsule dimension?\n",
    "    'capitallen' : trainX_capitals_cat.shape[2],  # capitalization classes (5)\n",
    "    'ner_classes' : trainY_cat.shape[1],  # 18, POS coarse tags \n",
    "    'embed_dim' : global_embed_dim,  # word embedding size (300)\n",
    "    'num_routing' : 3, \n",
    "\n",
    "    'use_glove' : True,\n",
    "    'allow_glove_retrain' : False,\n",
    "    'use_pos_tags' : True,\n",
    "    'use_capitalization_info' : True,    \n",
    "    \n",
    "    'conv1_filters' : 256,\n",
    "    'conv1_kernel_size' : 3,\n",
    "    'conv1_strides' : 1,\n",
    "    'conv1_padding' : 'valid',\n",
    "    \n",
    "    'use_2D_primarycaps' : False,\n",
    "    'primarycaps_dim_capsule' : 8,\n",
    "#     'primarycaps_dim_capsule' : 22, # number of feature types?\n",
    "    'primarycaps_n_channels' : 32,\n",
    "    'primarycaps_kernel_size' : 3,\n",
    "    'primarycaps_strides' : 1,\n",
    "    'primarycaps_padding' : 'valid',\n",
    "\n",
    "    'ner_capsule_dim' : 16,\n",
    "#     'ner_capsule_dim' : 18, # number of coarse POS tags?\n",
    "\n",
    "    \n",
    "    'num_dynamic_routing_passes' : 3,\n",
    "    \n",
    "    # decoder is still work in progress\n",
    "    'use_decoder' : False,\n",
    "    'decoder_feed_forward_1' : 100,\n",
    "    'decoder_feed_forward_2' : 100, \n",
    "    'decoder_dropout' : 0.3,\n",
    "    \n",
    "    'save_dir' : './result',\n",
    "    'batch_size' : 100,\n",
    "    'debug' : 2,\n",
    "    'epochs' : 5,\n",
    "    'stopping_patience' : 3, \n",
    "    'dropout_p' : 0.25,\n",
    "    'embed_dropout' : 0.25,\n",
    "    'lam_recon' : 0.0005,\n",
    "    \n",
    "    'optimizer' : 'Adam', #or 'SGD'\n",
    "    'loss_function' : 'custom_cosine', # mean_squared_error\n",
    "}"
   ]
  },
  {
   "cell_type": "code",
   "execution_count": null,
   "metadata": {},
   "outputs": [],
   "source": [
    "# define hyper parameters for model\n",
    "# CNN\n",
    "hyper_param_cnn = {\n",
    "    \n",
    "    'max_features' : global_max_features,  # 20000\n",
    "    'maxlen' : trainX.shape[1],  # window size (11)\n",
    "    'poslen' : trainX_pos_cat.shape[2],  # pos classes (216)\n",
    "    'capitallen' : trainX_capitals_cat.shape[2],  # capitalization classes (5)\n",
    "    'ner_classes' : trainY_cat.shape[1],  # 18 \n",
    "    'embed_dim' : global_embed_dim,  # word embedding size (300)\n",
    "    'num_routing' : 3, \n",
    "\n",
    "    'use_glove' : True,\n",
    "    'allow_glove_retrain' : False,\n",
    "    'use_pos_tags' : True,\n",
    "    'use_capitalization_info' : True,    \n",
    "    \n",
    "    'conv1_filters' : 256,\n",
    "    'conv1_kernel_size' : 3,\n",
    "    'conv1_strides' : 1,\n",
    "    'conv1_padding' : 'valid',\n",
    "    \n",
    "    'conv2_filters' : 256,\n",
    "    'conv2_kernel_size' : 3,\n",
    "    'conv2_strides' : 1,\n",
    "    'conv2_padding' : 'valid',\n",
    "    \n",
    "    'conv3_filters' : 128,\n",
    "    'conv3_kernel_size' : 3,\n",
    "    'conv3_strides' : 1,\n",
    "    'conv3_padding' : 'valid',\n",
    "    \n",
    "    'max_pooling_size' : 3,\n",
    "    'max_pooling_strides' : 1,\n",
    "    'max_pooling_padding' : 'valid',\n",
    "    'maxpool_dropout' : 0.3,\n",
    "    \n",
    "    'feed_forward_1' : 328,\n",
    "    'ff1_dropout' : 0.3,\n",
    "    'feed_forward_2' : 192,\n",
    "    'ff2_dropout' : 0.3,\n",
    "    \n",
    "    'save_dir' : './result',\n",
    "    'batch_size' : 100,\n",
    "    'debug' : 2,\n",
    "    'epochs' : 5,\n",
    "    'stopping_patience' : 5, # default to same as epochs, ie don't use\n",
    "    'dropout_p' : 0.25,\n",
    "    'embed_dropout' : 0.25,  # set to 0 to disable dropout\n",
    "    'lam_recon' : 0.0005,\n",
    "    \n",
    "    'optimizer' : 'Adam', #or 'SGD'\n",
    "}"
   ]
  },
  {
   "cell_type": "markdown",
   "metadata": {},
   "source": [
    "## Save All Data to Disk"
   ]
  },
  {
   "cell_type": "code",
   "execution_count": null,
   "metadata": {},
   "outputs": [],
   "source": [
    "# save all loaded data for use by training process\n",
    "saveProcessedData( trainX, trainX_capitals_cat, trainX_pos_cat, devX, devX_capitals_cat,\n",
    "                   devX_pos_cat, trainY_cat, devY_cat, embedding_matrix, train_decoderY, dev_decoderY)"
   ]
  },
  {
   "cell_type": "markdown",
   "metadata": {},
   "source": [
    "## Model Training Functions"
   ]
  },
  {
   "cell_type": "code",
   "execution_count": null,
   "metadata": {},
   "outputs": [],
   "source": [
    "@timeit \n",
    "def trainModelSP( testFunc, modelName, hyper_params, embed_matrix=None, verbose=False):\n",
    "    \"\"\"\n",
    "    testFunc - the name of the python file to run\n",
    "    modelName - the internal name (ID) of the model to train\n",
    "    hyper_params - a dict of hyper parameters\n",
    "    \"\"\"\n",
    "    # save the hyperparams\n",
    "    with open(HYPER_PARAM_FILE, mode='w') as fp:\n",
    "        json.dump( hyper_params, fp)\n",
    "    \n",
    "    # call the train function\n",
    "    # consider replacing with a call to subprocess!!\n",
    "    !python {testFunc} {modelName} {HYPER_PARAM_FILE}\n"
   ]
  },
  {
   "cell_type": "code",
   "execution_count": null,
   "metadata": {},
   "outputs": [],
   "source": [
    "@timeit \n",
    "def testFeatures( testFunc, modelName, hyper_params):\n",
    "    \"\"\"\n",
    "    builds and trains models for the configuration in hyper_params,\n",
    "    1 for each input feature configuration: base, pos, caps, pos + caps \n",
    "      (no longer training pos and caps independently)\n",
    "    \n",
    "    testFunc - the name of the python file to run\n",
    "    modelName - the model name to use for labeling\n",
    "    \"\"\"\n",
    "    hypers = hyper_params.copy()\n",
    "    \n",
    "    # try the embeddings with different features\n",
    "    \n",
    "    # base\n",
    "    curModel = modelName + \"_\" + LANGUAGE + \"_\" + TRAIN_AMOUNT + \"_base\"\n",
    "    trainModelSP( testFunc, curModel, hypers )\n",
    "    \n",
    "    # pos tags\n",
    "    curModel = modelName + \"_\" + LANGUAGE + \"_\" + TRAIN_AMOUNT + \"_features\"\n",
    "    hypers['use_pos_tags'] = True\n",
    "    hypers['use_capitalization_info'] = False\n",
    "    trainModelSP( testFunc, curModel, hypers )\n",
    "    \n",
    "    # capitalization info\n",
    "    #curModel = modelName + \"_caps\"\n",
    "    #hypers['use_pos_tags'] = False\n",
    "    #hypers['use_capitalization_info'] = True\n",
    "    #trainModelSP( testFunc, curModel, hypers )\n",
    "    \n",
    "    # both\n",
    "#     curModel = modelName + \"_pos_caps\"\n",
    "#     hypers['use_pos_tags'] = True\n",
    "#     hypers['use_capitalization_info'] = True\n",
    "#     trainModelSP( testFunc, curModel, hypers )\n",
    "    "
   ]
  },
  {
   "cell_type": "markdown",
   "metadata": {},
   "source": [
    "##  Training\n",
    "> the output isn't pretty, but we don't really need it since everything is stored in the history log. It is really just to show a sign of life.  \n",
    "> * The below is just an example of how to set hyper parameters and train multiple models."
   ]
  },
  {
   "cell_type": "markdown",
   "metadata": {},
   "source": [
    "### train capsnet"
   ]
  },
  {
   "cell_type": "code",
   "execution_count": null,
   "metadata": {
    "scrolled": true
   },
   "outputs": [],
   "source": [
    "# capsnet training function\n",
    "testFunc = \"trainCapsModel.py\"\n",
    "\n",
    "hypers = hyper_param_caps.copy()\n",
    "hypers['epochs'] = 1\n",
    "hypers['stopping_patience'] = 3\n",
    "hypers['use_pos_tags'] = False\n",
    "hypers['use_capitalization_info'] = False\n",
    "\n",
    "# # try different embeddings\n",
    "# # learn embeddings\n",
    "# print(\"\\n\\nLearn Embeddings\")\n",
    "# hypers['use_glove'] = False\n",
    "# hypers['embed_dropout'] = 0.0\n",
    "# testFeatures( testFunc, \"learn\", hypers)\n",
    "\n",
    "# # learn embeddings + Dropout\n",
    "# print(\"\\n\\nLearn Embeddings and Dropout\")\n",
    "# hypers['use_glove'] = False\n",
    "# hypers['embed_dropout'] = 0.25\n",
    "# testFeatures( testFunc, \"learn_dropout\", hypers)\n",
    "\n",
    "# use glove, no learn\n",
    "print(\"\\n\\nGlove Embeddings\")\n",
    "hypers['use_glove'] = True\n",
    "hypers['allow_glove_retrain'] = False\n",
    "hypers['embed_dropout'] = 0.0\n",
    "testFeatures( testFunc, \"glove_nolearn\", hypers)\n",
    "\n",
    "# # use glove, no learn + Dropout\n",
    "# print(\"\\n\\nGlove Embeddings and Dropout\")\n",
    "# hypers['use_glove'] = True\n",
    "# hypers['allow_glove_retrain'] = False\n",
    "# hypers['embed_dropout'] = 0.25\n",
    "# testFeatures( testFunc, \"glove_nolearn_dropout\", hypers)\n",
    "\n",
    "# # use glove, learn\n",
    "# print(\"\\n\\nGlove Embeddings with Learning\")\n",
    "# hypers['use_glove'] = True\n",
    "# hypers['allow_glove_retrain'] = True\n",
    "# hypers['embed_dropout'] = 0.0\n",
    "# testFeatures( testFunc, \"glove_learn\", hypers)\n",
    "\n",
    "# # # use glove, learn + Dropout\n",
    "# print(\"\\n\\nGlove Embeddings with Learning and Dropout\")\n",
    "# hypers['use_glove'] = True\n",
    "# hypers['allow_glove_retrain'] = True\n",
    "# hypers['embed_dropout'] = 0.25\n",
    "# testFeatures( testFunc, \"glove_learn_dropout\", hypers)\n"
   ]
  },
  {
   "cell_type": "markdown",
   "metadata": {},
   "source": [
    "### train CNN"
   ]
  },
  {
   "cell_type": "code",
   "execution_count": null,
   "metadata": {},
   "outputs": [],
   "source": [
    "# CNN training function\n",
    "testFunc = \"trainCNNModel.py\"\n",
    "\n",
    "hypers = hyper_param_cnn.copy()\n",
    "hypers['epochs'] = 1\n",
    "hypers['stopping_patience'] = 3\n",
    "hypers['use_pos_tags'] = False\n",
    "hypers['use_capitalization_info'] = False\n",
    "\n",
    "# # try different embeddings\n",
    "# # learn embeddings\n",
    "# print(\"\\n\\nLearn Embeddings\")\n",
    "# hypers['use_glove'] = False\n",
    "# hypers['embed_dropout'] = 0.0\n",
    "# testFeatures( testFunc, \"learn\", hypers)\n",
    "\n",
    "# # learn embeddings + Dropout\n",
    "# print(\"\\n\\nLearn Embeddings and Dropout\")\n",
    "# hypers['use_glove'] = False\n",
    "# hypers['embed_dropout'] = 0.25\n",
    "# testFeatures( testFunc, \"learn_dropout\", hypers)\n",
    "\n",
    "# use glove, no learn\n",
    "print(\"\\n\\nGlove Embeddings\")\n",
    "hypers['use_glove'] = True\n",
    "hypers['allow_glove_retrain'] = False\n",
    "hypers['embed_dropout'] = 0.0\n",
    "testFeatures( testFunc, \"glove_nolearn_cnn\", hypers)\n",
    "\n",
    "# # use glove, no learn + Dropout\n",
    "# print(\"\\n\\nGlove Embeddings and Dropout\")\n",
    "# hypers['use_glove'] = True\n",
    "# hypers['allow_glove_retrain'] = False\n",
    "# hypers['embed_dropout'] = 0.25\n",
    "# testFeatures( testFunc, \"glove_nolearn_dropout\", hypers)\n",
    "\n",
    "# # use glove, learn\n",
    "# print(\"\\n\\nGlove Embeddings with Learning\")\n",
    "# hypers['use_glove'] = True\n",
    "# hypers['allow_glove_retrain'] = True\n",
    "# hypers['embed_dropout'] = 0.0\n",
    "# testFeatures( testFunc, \"glove_learn\", hypers)\n",
    "\n",
    "# # # use glove, learn + Dropout\n",
    "# print(\"\\n\\nGlove Embeddings with Learning and Dropout\")\n",
    "# hypers['use_glove'] = True\n",
    "# hypers['allow_glove_retrain'] = True\n",
    "# hypers['embed_dropout'] = 0.25\n",
    "# testFeatures( testFunc, \"glove_learn_dropout\", hypers)"
   ]
  },
  {
   "cell_type": "code",
   "execution_count": null,
   "metadata": {
    "scrolled": true
   },
   "outputs": [],
   "source": [
    "# # SGD testing\n",
    "# # capsnet training function\n",
    "# testFunc = \"trainCapsModel.py\"\n",
    "\n",
    "# hypers = hyper_param_caps.copy()\n",
    "# hypers['optimizer'] = \"SGD\"\n",
    "# print(\"Training with SGD - Nesterov Momentum Optimizer\")\n",
    "\n",
    "# hypers['epochs'] = 1\n",
    "# hypers['stopping_patience'] = 3\n",
    "# hypers['use_pos_tags'] = False\n",
    "# hypers['use_capitalization_info'] = False\n",
    "\n",
    "# # # try different embeddings\n",
    "# # # learn embeddings\n",
    "# # print(\"\\n\\nLearn Embeddings\")\n",
    "# # hypers['use_glove'] = False\n",
    "# # hypers['embed_dropout'] = 0.0\n",
    "# # testFeatures( testFunc, \"SGD_primcaps_learn\", hypers)\n",
    "\n",
    "# # # learn embeddings + Dropout\n",
    "# # print(\"\\n\\nLearn Embeddings and Dropout\")\n",
    "# # hypers['use_glove'] = False\n",
    "# # hypers['embed_dropout'] = 0.25\n",
    "# # testFeatures( testFunc, \"SGD_primcaps_learn_dropout\", hypers)\n",
    "\n",
    "# # use glove, no learn\n",
    "# print(\"\\n\\nGlove Embeddings\")\n",
    "# hypers['use_glove'] = True\n",
    "# hypers['allow_glove_retrain'] = False\n",
    "# hypers['embed_dropout'] = 0.0\n",
    "# testFeatures( testFunc, \"SGD_primcaps_glove_nolearn\", hypers)\n",
    "\n",
    "# # # use glove, no learn + Dropout\n",
    "# # print(\"\\n\\nGlove Embeddings and Dropout\")\n",
    "# # hypers['use_glove'] = True\n",
    "# # hypers['allow_glove_retrain'] = False\n",
    "# # hypers['embed_dropout'] = 0.25\n",
    "# # testFeatures( testFunc, \"SGD_primcaps_glove_nolearn_dropout\", hypers)\n",
    "\n",
    "# # # use glove, learn\n",
    "# # print(\"\\n\\nGlove Embeddings with Learning\")\n",
    "# # hypers['use_glove'] = True\n",
    "# # hypers['allow_glove_retrain'] = True\n",
    "# # hypers['embed_dropout'] = 0.0\n",
    "# # testFeatures( testFunc, \"SGD_primcaps_glove_learn\", hypers)\n",
    "\n",
    "# # # # use glove, learn + Dropout\n",
    "# # print(\"\\n\\nGlove Embeddings with Learning and Dropout\")\n",
    "# # hypers['use_glove'] = True\n",
    "# # hypers['allow_glove_retrain'] = True\n",
    "# # hypers['embed_dropout'] = 0.25\n",
    "# # testFeatures( testFunc, \"SGD_primcaps_glove_learn_dropout\", hypers)"
   ]
  },
  {
   "cell_type": "code",
   "execution_count": null,
   "metadata": {},
   "outputs": [],
   "source": []
  },
  {
   "cell_type": "code",
   "execution_count": null,
   "metadata": {},
   "outputs": [],
   "source": []
  },
  {
   "cell_type": "code",
   "execution_count": null,
   "metadata": {},
   "outputs": [],
   "source": []
  },
  {
   "cell_type": "code",
   "execution_count": null,
   "metadata": {},
   "outputs": [],
   "source": []
  }
 ],
 "metadata": {
  "kernelspec": {
   "display_name": "Python 3",
   "language": "python",
   "name": "python3"
  },
  "language_info": {
   "codemirror_mode": {
    "name": "ipython",
    "version": 3
   },
   "file_extension": ".py",
   "mimetype": "text/x-python",
   "name": "python",
   "nbconvert_exporter": "python",
   "pygments_lexer": "ipython3",
   "version": "3.7.4"
  }
 },
 "nbformat": 4,
 "nbformat_minor": 2
}
